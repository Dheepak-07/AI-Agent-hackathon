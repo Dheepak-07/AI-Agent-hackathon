{
 "cells": [
  {
   "cell_type": "code",
   "execution_count": null,
   "metadata": {},
   "outputs": [],
   "source": [
    "!pip install torch==2.1.2 torchvision==0.16.2 torchaudio==2.1.2 transformers==4.39.3 accelerate pandas numpy"
   ]
  },
  {
   "cell_type": "code",
   "execution_count": null,
   "metadata": {
    "id": "VgWGmhxH7RaD"
   },
   "outputs": [],
   "source": [
    "import pandas as pd\n",
    "from transformers import pipeline\n",
    "\n",
    "def load_classifier():\n",
    "    \"\"\"\n",
    "    Loads the zero-shot classification model from Hugging Face.\n",
    "\n",
    "    This is a slow operation and should only be run once.\n",
    "\n",
    "    Returns:\n",
    "        A loaded classifier pipeline object.\n",
    "    \"\"\"\n",
    "    print(\"Loading AI model... (This can take a moment)\")\n",
    "    classifier = pipeline(\n",
    "        \"zero-shot-classification\",\n",
    "        model=\"facebook/bart-large-mnli\"\n",
    "    )\n",
    "    print(\"✅ Model loaded successfully.\")\n",
    "    return classifier\n",
    "\n",
    "def classify_feedback(feedback_list: list, classifier) -> list:\n",
    "    \"\"\"\n",
    "    Classifies a list of feedback texts using a pre-loaded classifier.\n",
    "\n",
    "    Args:\n",
    "        feedback_list (list): A list of strings, where each string is a piece of feedback.\n",
    "        classifier: The pre-loaded pipeline object from the load_classifier() function.\n",
    "\n",
    "    Returns:\n",
    "        list: A list of the top classification labels in the same order as the input.\n",
    "    \"\"\"\n",
    "    if not feedback_list:\n",
    "        return []\n",
    "\n",
    "    print(f\"Analyzing {len(feedback_list)} feedback entries...\")\n",
    "\n",
    "    # Define the categories for classification\n",
    "    candidate_labels = [\"Top Priority\", \"Medium Priority\", \"Least Priority\", \"feature required\"]\n",
    "\n",
    "    # The pipeline can process a list of texts all at once\n",
    "    results = classifier(feedback_list, candidate_labels)\n",
    "\n",
    "    # Extract just the top label for each piece of feedback\n",
    "    top_priorities = [result['labels'][0] for result in results]\n",
    "\n",
    "    print(\"✅ Analysis complete.\")\n",
    "    return top_priorities"
   ]
  },
  {
   "cell_type": "code",
   "execution_count": null,
   "metadata": {
    "colab": {
     "base_uri": "https://localhost:8080/"
    },
    "executionInfo": {
     "elapsed": 5189,
     "status": "ok",
     "timestamp": 1759546507117,
     "user": {
      "displayName": "Coding Learner",
      "userId": "18183540684881238089"
     },
     "user_tz": -330
    },
    "id": "yN327YgN8SaG",
    "outputId": "2434b839-2325-4f8f-8782-4cef1c9b2d4a"
   },
   "outputs": [
    {
     "name": "stdout",
     "output_type": "stream",
     "text": [
      "                              App_Name        Date      Time   Rating  \\\n",
      "0       EatSure QuickiES Food Delivery  2025-02-27  02:14:38        5   \n",
      "1       EatSure QuickiES Food Delivery  2025-02-27  01:01:45        1   \n",
      "2       EatSure QuickiES Food Delivery  2025-02-27  00:40:39        1   \n",
      "3       EatSure QuickiES Food Delivery  2025-02-27  00:39:58        5   \n",
      "4       EatSure QuickiES Food Delivery  2025-02-27  00:32:33        5   \n",
      "...                                ...         ...       ...      ...   \n",
      "346050  Zomato: Food Delivery & Dining  2024-12-14  00:27:51        5   \n",
      "346051  Zomato: Food Delivery & Dining  2024-12-14  00:26:43        5   \n",
      "346052  Zomato: Food Delivery & Dining         NaN       NaN        5   \n",
      "346053  Zomato: Food Delivery & Dining         NaN       NaN        5   \n",
      "346054  Zomato: Food Delivery & Dining  2024-12-14  00:07:07        5   \n",
      "\n",
      "         Comment_Upvotes                                             Review  \\\n",
      "0                      0  I am 1st Time User  and Trust me best food del...   \n",
      "1                      0  Worst service by eatsure.....they only fool yo...   \n",
      "2                      0  Everything Is Good until Something Wrong Happe...   \n",
      "3                      0                         Good works with good taste   \n",
      "4                      0                                               good   \n",
      "...                  ...                                                ...   \n",
      "346050               242  Pathetic service nowadays. The app needs to co...   \n",
      "346051                 0                                          Very nice   \n",
      "346052                 0                                                Wow   \n",
      "346053                 0         I think Zomato is a real food partner ❤️🙏🏻   \n",
      "346054                 0                                               Good   \n",
      "\n",
      "        Response_Date  Response_Time  \\\n",
      "0          2025-02-27       02:16:15   \n",
      "1          2025-02-27       01:16:45   \n",
      "2          2025-02-27       00:47:54   \n",
      "3          2025-02-27       00:49:24   \n",
      "4          2025-02-27       00:50:33   \n",
      "...               ...            ...   \n",
      "346050     2024-09-25       23:13:31   \n",
      "346051     2024-12-14       00:33:33   \n",
      "346052            NaN            NaN   \n",
      "346053            NaN            NaN   \n",
      "346054     2024-12-14       00:13:32   \n",
      "\n",
      "                                                 Response  \n",
      "0       Hey There! Thanks for leaving us such a wonder...  \n",
      "1       Hi There! That is certainly not the experience...  \n",
      "2       Hi There! That is certainly not the experience...  \n",
      "3       Hey There! Thanks for leaving us such a wonder...  \n",
      "4       Hey There! Thanks for leaving us such a wonder...  \n",
      "...                                                   ...  \n",
      "346050  We understand that our app may not have met yo...  \n",
      "346051  Thank you for your deliciously kind words! If ...  \n",
      "346052                                                NaN  \n",
      "346053                                                NaN  \n",
      "346054  Thank you for your deliciously kind words! If ...  \n",
      "\n",
      "[346055 rows x 9 columns]\n"
     ]
    }
   ],
   "source": [
    "import pandas as pd\n",
    "import numpy as np\n",
    "\n",
    "df = pd.read_csv(\"dataset.csv\")\n",
    "print(df)"
   ]
  },
  {
   "cell_type": "code",
   "execution_count": 2,
   "metadata": {
    "colab": {
     "base_uri": "https://localhost:8080/",
     "height": 216
    },
    "executionInfo": {
     "elapsed": 11,
     "status": "error",
     "timestamp": 1759547813869,
     "user": {
      "displayName": "Coding Learner",
      "userId": "18183540684881238089"
     },
     "user_tz": -330
    },
    "id": "69dWqVLhNAuN",
    "outputId": "dd78e901-7c0a-4ac5-b7ef-2560f758adb9"
   },
   "outputs": [
    {
     "name": "stdout",
     "output_type": "stream",
     "text": [
      "Original size: 346055 rows\n",
      "Trimmed size: 1000 rows\n"
     ]
    }
   ],
   "source": [
    "# Create a trimmed DataFrame with only the first 1,000 rows\n",
    "dfd = df.head(1000)\n",
    "\n",
    "print(f\"Original size: {len(df)} rows\")\n",
    "print(f\"Trimmed size: {len(dfd)} rows\")"
   ]
  },
  {
   "cell_type": "code",
   "execution_count": null,
   "metadata": {
    "colab": {
     "base_uri": "https://localhost:8080/"
    },
    "executionInfo": {
     "elapsed": 94318,
     "status": "ok",
     "timestamp": 1759548030760,
     "user": {
      "displayName": "Coding Learner",
      "userId": "18183540684881238089"
     },
     "user_tz": -330
    },
    "id": "u3IGWTjr8nzg",
    "outputId": "52aac218-497e-4778-8f62-485c863c88c3"
   },
   "outputs": [
    {
     "name": "stdout",
     "output_type": "stream",
     "text": [
      "Loading AI model... (This can take a moment)\n"
     ]
    },
    {
     "name": "stderr",
     "output_type": "stream",
     "text": [
      "Device set to use cuda:0\n"
     ]
    },
    {
     "name": "stdout",
     "output_type": "stream",
     "text": [
      "✅ Model loaded successfully.\n",
      "Analyzing 1000 feedback entries...\n",
      "✅ Analysis complete.\n",
      "0      feature required\n",
      "1        Least Priority\n",
      "2        Least Priority\n",
      "3      feature required\n",
      "4       Medium Priority\n",
      "             ...       \n",
      "995        Top Priority\n",
      "996      Least Priority\n",
      "997     Medium Priority\n",
      "998    feature required\n",
      "999    feature required\n",
      "Name: Priority, Length: 1000, dtype: object\n"
     ]
    },
    {
     "name": "stderr",
     "output_type": "stream",
     "text": [
      "/tmp/ipython-input-2586989546.py:1: SettingWithCopyWarning: \n",
      "A value is trying to be set on a copy of a slice from a DataFrame.\n",
      "Try using .loc[row_indexer,col_indexer] = value instead\n",
      "\n",
      "See the caveats in the documentation: https://pandas.pydata.org/pandas-docs/stable/user_guide/indexing.html#returning-a-view-versus-a-copy\n",
      "  dfd['Priority'] = np.array(classify_feedback(list(dfd[' Review']), load_classifier()))\n"
     ]
    }
   ],
   "source": [
    "dfd['Priority'] = np.array(classify_feedback(list(dfd[' Review']), load_classifier()))\n",
    "print(dfd['Priority'])"
   ]
  },
  {
   "cell_type": "code",
   "execution_count": null,
   "metadata": {
    "colab": {
     "base_uri": "https://localhost:8080/"
    },
    "executionInfo": {
     "elapsed": 45,
     "status": "ok",
     "timestamp": 1759548115352,
     "user": {
      "displayName": "Coding Learner",
      "userId": "18183540684881238089"
     },
     "user_tz": -330
    },
    "id": "KJ0PlEohIryI",
    "outputId": "bee93eac-c322-42c7-97b2-7667909bbd0d"
   },
   "outputs": [
    {
     "name": "stdout",
     "output_type": "stream",
     "text": [
      "✅ Successfully saved 1000 rows to 'trimmed_feedback.csv'\n"
     ]
    }
   ],
   "source": [
    "# Define the name for your new CSV file\n",
    "output_filename = 'trimmed_feedback.csv'\n",
    "\n",
    "# Save the DataFrame to the new CSV file\n",
    "dfd.to_csv(output_filename, index=False)\n",
    "\n",
    "print(f\"✅ Successfully saved {len(dfd)} rows to '{output_filename}'\")"
   ]
  }
 ],
 "metadata": {
  "accelerator": "GPU",
  "colab": {
   "authorship_tag": "ABX9TyNKRo6FnxBezTxDrgZx8sJU",
   "gpuType": "T4",
   "provenance": [],
   "toc_visible": true
  },
  "kernelspec": {
   "display_name": "Python 3",
   "name": "python3"
  },
  "language_info": {
   "name": "python"
  }
 },
 "nbformat": 4,
 "nbformat_minor": 0
}
